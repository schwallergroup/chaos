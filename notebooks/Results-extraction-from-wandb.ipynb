{
 "cells": [
  {
   "cell_type": "code",
   "execution_count": 2,
   "metadata": {},
   "outputs": [],
   "source": [
    "import wandb\n",
    "import pandas as pd\n",
    "import matplotlib.pyplot as plt\n",
    "from tqdm.notebook import tqdm \n",
    "import matplotlib.pyplot as plt\n",
    "import seaborn as sns\n",
    "\n",
    "pd.set_option('display.max_rows', 1000)\n",
    "pd.set_option('display.max_columns', 500)\n",
    "pd.options.display.max_rows = 4000\n",
    "pd.options.display.max_columns = 500\n",
    "pd.options.display.max_seq_items = None"
   ]
  },
  {
   "cell_type": "code",
   "execution_count": 3,
   "metadata": {},
   "outputs": [
    {
     "name": "stderr",
     "output_type": "stream",
     "text": [
      "100%|██████████| 115/115 [00:09<00:00, 11.66it/s]\n"
     ]
    }
   ],
   "source": [
    "from tqdm import tqdm\n",
    "import multiprocessing\n",
    "from chaos.results import process_run\n",
    "\n",
    "project_name = \"liac/additives-rebuttal\"\n",
    "#if you ran a sweep you can filter results by the sweep_id\n",
    "sweeps = ['9ekk8kjy']\n",
    "\n",
    "api = wandb.Api()\n",
    "runs = api.runs(project_name, filters={\"sweep\": {'$in': sweeps}})\n",
    "run_ids = [run.id for run in runs]\n",
    "project_names = [project_name]*len(run_ids)\n",
    "\n",
    "num_processes = 18 #int(multiprocessing.cpu_count() / 2)\n",
    "args = zip(run_ids, project_names)\n",
    "\n",
    "with multiprocessing.Pool(num_processes) as pool:\n",
    "    results = list(tqdm(pool.imap(process_run, args), total=len(run_ids)))\n",
    "\n"
   ]
  },
  {
   "cell_type": "code",
   "execution_count": 4,
   "metadata": {},
   "outputs": [],
   "source": [
    "all_history_data = [item[0] for item in results if item is not None]\n",
    "summary_list = [item[1] for item in results if item[0] is not None]\n",
    "config_list = [item[2] for item in results if item[0] is not None]\n",
    "name_list = [item[3] for item in results if item[0] is not None]\n",
    "run_ids = [item[4] for item in results if item[0] is not None]\n",
    "\n",
    "history_data = pd.concat(all_history_data)\n",
    "\n",
    "# Convert to DataFrame\n",
    "data = pd.DataFrame({\n",
    "    \"summary\": summary_list,\n",
    "    \"config\": config_list,\n",
    "    \"name\": name_list,\n",
    "    \"run_id\": run_ids,\n",
    "})\n",
    "\n",
    "# Flatten the dictionaries in the 'summary' and 'config' columns\n",
    "summary_df = pd.json_normalize(data['summary'])\n",
    "config_df = pd.json_normalize(data['config'])\n",
    "\n",
    "# Concatenate all the dataframes together\n",
    "data = pd.concat([data.drop(columns=['summary', 'config']), summary_df, config_df], axis=1)"
   ]
  },
  {
   "cell_type": "code",
   "execution_count": 5,
   "metadata": {},
   "outputs": [],
   "source": [
    "# Remove columns that start with \"trainer.\"\n",
    "data = data.loc[:, ~data.columns.str.startswith('trainer.')]\n",
    "data = data.loc[:, ~data.columns.str.startswith('model.model_config.')]\n",
    "data = data.loc[:, ~data.columns.str.startswith('model_config.')]\n",
    "data = data.loc[:, ~data.columns.str.startswith('model_config/')]\n",
    "\n",
    "# Remove columns where all values are NaN\n",
    "data = data.dropna(axis=1, how='all')\n",
    "data = data.reindex(sorted(data.columns), axis=1)\n"
   ]
  },
  {
   "cell_type": "code",
   "execution_count": 6,
   "metadata": {},
   "outputs": [
    {
     "data": {
      "text/plain": [
       "(1150, 37)"
      ]
     },
     "execution_count": 6,
     "metadata": {},
     "output_type": "execute_result"
    }
   ],
   "source": [
    "history_data.shape"
   ]
  },
  {
   "cell_type": "code",
   "execution_count": 60,
   "metadata": {},
   "outputs": [],
   "source": [
    "data.to_csv('../report/summary.csv', index=False)\n"
   ]
  },
  {
   "cell_type": "code",
   "execution_count": 61,
   "metadata": {},
   "outputs": [],
   "source": [
    "history_data.to_csv('../report/history.csv', index=False)"
   ]
  }
 ],
 "metadata": {
  "kernelspec": {
   "display_name": "additive_bo",
   "language": "python",
   "name": "python3"
  },
  "language_info": {
   "codemirror_mode": {
    "name": "ipython",
    "version": 3
   },
   "file_extension": ".py",
   "mimetype": "text/x-python",
   "name": "python",
   "nbconvert_exporter": "python",
   "pygments_lexer": "ipython3",
   "version": "3.8.17"
  },
  "orig_nbformat": 4
 },
 "nbformat": 4,
 "nbformat_minor": 2
}
