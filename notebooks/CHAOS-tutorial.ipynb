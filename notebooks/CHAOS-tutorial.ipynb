{
 "cells": [
  {
   "cell_type": "code",
   "execution_count": 15,
   "metadata": {},
   "outputs": [
    {
     "name": "stdout",
     "output_type": "stream",
     "text": [
      "The autoreload extension is already loaded. To reload it, use:\n",
      "  %reload_ext autoreload\n"
     ]
    }
   ],
   "source": [
    "%load_ext autoreload \n",
    "%autoreload 2"
   ]
  },
  {
   "cell_type": "code",
   "execution_count": 16,
   "metadata": {},
   "outputs": [
    {
     "name": "stdout",
     "output_type": "stream",
     "text": [
      "The watermark extension is already loaded. To reload it, use:\n",
      "  %reload_ext watermark\n",
      "Python implementation: CPython\n",
      "Python version       : 3.8.16\n",
      "IPython version      : 8.8.0\n",
      "\n",
      "numpy       : 1.23.5\n",
      "pandas      : 1.5.3\n",
      "scipy       : 1.10.1\n",
      "scikit-learn: 1.2.2\n",
      "torch       : 2.0.1\n",
      "rdkit       : 2023.3.1\n",
      "gpytorch    : 1.10\n",
      "matplotlib  : 3.3.2\n",
      "botorch     : 0.8.2.dev9+g7f3aa92f\n",
      "wandb       : 0.15.3\n",
      "\n"
     ]
    }
   ],
   "source": [
    "%load_ext watermark\n",
    "%watermark -v -p numpy,pandas,scipy,scikit-learn,torch,rdkit,gpytorch,matplotlib,botorch,wandb\n"
   ]
  },
  {
   "cell_type": "code",
   "execution_count": 17,
   "metadata": {},
   "outputs": [],
   "source": [
    "from chaos.data.module import BaseDataModule, Featurizer\n",
    "from chaos.bo.module import BoModule\n",
    "from chaos.initialization.initializers import BOInitializer\n",
    "from pytorch_lightning import seed_everything\n",
    "from pytorch_lightning import Trainer\n",
    "from pytorch_lightning.loggers import WandbLogger"
   ]
  },
  {
   "cell_type": "markdown",
   "metadata": {},
   "source": [
    "# CHAOS Tutorial\n",
    "\n",
    "Welcome to the CHAOS! (tutorial) We will walk through the entire workflow of the CHAOS framework, starting with loading your dataset from a CSV file to running a Bayesian optimization loop to find the optimal experimental settings for your chemical reactions.\n",
    "\n",
    "## Introduction\n",
    "\n",
    "CHAOS, which stands for CHemical Additives Optimization Screening is an open-source framework that leverages Bayesian optimization and machine learning to facilitate the optimization of chemical reactions. The objective of this tutorial is to provide a hands-on guide to using CHAOS for chemical reaction optimization.\n"
   ]
  },
  {
   "cell_type": "code",
   "execution_count": 18,
   "metadata": {},
   "outputs": [],
   "source": [
    "## Data loading and featurization"
   ]
  },
  {
   "cell_type": "code",
   "execution_count": 19,
   "metadata": {},
   "outputs": [
    {
     "name": "stderr",
     "output_type": "stream",
     "text": [
      "/home/rankovic/miniconda3/envs/additive_bo/lib/python3.8/site-packages/sklearn/cluster/_kmeans.py:870: FutureWarning: The default value of `n_init` will change from 10 to 'auto' in 1.4. Set the value of `n_init` explicitly to suppress the warning\n",
      "  warnings.warn(\n",
      "Exception ignored on calling ctypes callback function: <function _ThreadpoolInfo._find_modules_with_dl_iterate_phdr.<locals>.match_module_callback at 0x7fb9615f8e50>\n",
      "Traceback (most recent call last):\n",
      "  File \"/home/rankovic/miniconda3/envs/additive_bo/lib/python3.8/site-packages/threadpoolctl.py\", line 400, in match_module_callback\n",
      "    self._make_module_from_path(filepath)\n",
      "  File \"/home/rankovic/miniconda3/envs/additive_bo/lib/python3.8/site-packages/threadpoolctl.py\", line 515, in _make_module_from_path\n",
      "    module = module_class(filepath, prefix, user_api, internal_api)\n",
      "  File \"/home/rankovic/miniconda3/envs/additive_bo/lib/python3.8/site-packages/threadpoolctl.py\", line 606, in __init__\n",
      "    self.version = self.get_version()\n",
      "  File \"/home/rankovic/miniconda3/envs/additive_bo/lib/python3.8/site-packages/threadpoolctl.py\", line 646, in get_version\n",
      "    config = get_config().split()\n",
      "AttributeError: 'NoneType' object has no attribute 'split'\n",
      "Exception ignored on calling ctypes callback function: <function _ThreadpoolInfo._find_modules_with_dl_iterate_phdr.<locals>.match_module_callback at 0x7fb9615f8e50>\n",
      "Traceback (most recent call last):\n",
      "  File \"/home/rankovic/miniconda3/envs/additive_bo/lib/python3.8/site-packages/threadpoolctl.py\", line 400, in match_module_callback\n",
      "    self._make_module_from_path(filepath)\n",
      "  File \"/home/rankovic/miniconda3/envs/additive_bo/lib/python3.8/site-packages/threadpoolctl.py\", line 515, in _make_module_from_path\n",
      "    module = module_class(filepath, prefix, user_api, internal_api)\n",
      "  File \"/home/rankovic/miniconda3/envs/additive_bo/lib/python3.8/site-packages/threadpoolctl.py\", line 606, in __init__\n",
      "    self.version = self.get_version()\n",
      "  File \"/home/rankovic/miniconda3/envs/additive_bo/lib/python3.8/site-packages/threadpoolctl.py\", line 646, in get_version\n",
      "    config = get_config().split()\n",
      "AttributeError: 'NoneType' object has no attribute 'split'\n",
      "Exception ignored on calling ctypes callback function: <function _ThreadpoolInfo._find_modules_with_dl_iterate_phdr.<locals>.match_module_callback at 0x7fb9615f8e50>\n",
      "Traceback (most recent call last):\n",
      "  File \"/home/rankovic/miniconda3/envs/additive_bo/lib/python3.8/site-packages/threadpoolctl.py\", line 400, in match_module_callback\n",
      "    self._make_module_from_path(filepath)\n",
      "  File \"/home/rankovic/miniconda3/envs/additive_bo/lib/python3.8/site-packages/threadpoolctl.py\", line 515, in _make_module_from_path\n",
      "    module = module_class(filepath, prefix, user_api, internal_api)\n",
      "  File \"/home/rankovic/miniconda3/envs/additive_bo/lib/python3.8/site-packages/threadpoolctl.py\", line 606, in __init__\n",
      "    self.version = self.get_version()\n",
      "  File \"/home/rankovic/miniconda3/envs/additive_bo/lib/python3.8/site-packages/threadpoolctl.py\", line 646, in get_version\n",
      "    config = get_config().split()\n",
      "AttributeError: 'NoneType' object has no attribute 'split'\n",
      "Exception ignored on calling ctypes callback function: <function _ThreadpoolInfo._find_modules_with_dl_iterate_phdr.<locals>.match_module_callback at 0x7fb9615f8e50>\n",
      "Traceback (most recent call last):\n",
      "  File \"/home/rankovic/miniconda3/envs/additive_bo/lib/python3.8/site-packages/threadpoolctl.py\", line 400, in match_module_callback\n",
      "    self._make_module_from_path(filepath)\n",
      "  File \"/home/rankovic/miniconda3/envs/additive_bo/lib/python3.8/site-packages/threadpoolctl.py\", line 515, in _make_module_from_path\n",
      "    module = module_class(filepath, prefix, user_api, internal_api)\n",
      "  File \"/home/rankovic/miniconda3/envs/additive_bo/lib/python3.8/site-packages/threadpoolctl.py\", line 606, in __init__\n",
      "    self.version = self.get_version()\n",
      "  File \"/home/rankovic/miniconda3/envs/additive_bo/lib/python3.8/site-packages/threadpoolctl.py\", line 646, in get_version\n",
      "    config = get_config().split()\n",
      "AttributeError: 'NoneType' object has no attribute 'split'\n",
      "Exception ignored on calling ctypes callback function: <function _ThreadpoolInfo._find_modules_with_dl_iterate_phdr.<locals>.match_module_callback at 0x7fb9615f8e50>\n",
      "Traceback (most recent call last):\n",
      "  File \"/home/rankovic/miniconda3/envs/additive_bo/lib/python3.8/site-packages/threadpoolctl.py\", line 400, in match_module_callback\n",
      "    self._make_module_from_path(filepath)\n",
      "  File \"/home/rankovic/miniconda3/envs/additive_bo/lib/python3.8/site-packages/threadpoolctl.py\", line 515, in _make_module_from_path\n",
      "    module = module_class(filepath, prefix, user_api, internal_api)\n",
      "  File \"/home/rankovic/miniconda3/envs/additive_bo/lib/python3.8/site-packages/threadpoolctl.py\", line 606, in __init__\n",
      "    self.version = self.get_version()\n",
      "  File \"/home/rankovic/miniconda3/envs/additive_bo/lib/python3.8/site-packages/threadpoolctl.py\", line 646, in get_version\n",
      "    config = get_config().split()\n",
      "AttributeError: 'NoneType' object has no attribute 'split'\n",
      "Exception ignored on calling ctypes callback function: <function _ThreadpoolInfo._find_modules_with_dl_iterate_phdr.<locals>.match_module_callback at 0x7fb9615f8e50>\n",
      "Traceback (most recent call last):\n",
      "  File \"/home/rankovic/miniconda3/envs/additive_bo/lib/python3.8/site-packages/threadpoolctl.py\", line 400, in match_module_callback\n",
      "    self._make_module_from_path(filepath)\n",
      "  File \"/home/rankovic/miniconda3/envs/additive_bo/lib/python3.8/site-packages/threadpoolctl.py\", line 515, in _make_module_from_path\n",
      "    module = module_class(filepath, prefix, user_api, internal_api)\n",
      "  File \"/home/rankovic/miniconda3/envs/additive_bo/lib/python3.8/site-packages/threadpoolctl.py\", line 606, in __init__\n",
      "    self.version = self.get_version()\n",
      "  File \"/home/rankovic/miniconda3/envs/additive_bo/lib/python3.8/site-packages/threadpoolctl.py\", line 646, in get_version\n",
      "    config = get_config().split()\n",
      "AttributeError: 'NoneType' object has no attribute 'split'\n",
      "Exception ignored on calling ctypes callback function: <function _ThreadpoolInfo._find_modules_with_dl_iterate_phdr.<locals>.match_module_callback at 0x7fb9615f8e50>\n",
      "Traceback (most recent call last):\n",
      "  File \"/home/rankovic/miniconda3/envs/additive_bo/lib/python3.8/site-packages/threadpoolctl.py\", line 400, in match_module_callback\n",
      "    self._make_module_from_path(filepath)\n",
      "  File \"/home/rankovic/miniconda3/envs/additive_bo/lib/python3.8/site-packages/threadpoolctl.py\", line 515, in _make_module_from_path\n",
      "    module = module_class(filepath, prefix, user_api, internal_api)\n",
      "  File \"/home/rankovic/miniconda3/envs/additive_bo/lib/python3.8/site-packages/threadpoolctl.py\", line 606, in __init__\n",
      "    self.version = self.get_version()\n",
      "  File \"/home/rankovic/miniconda3/envs/additive_bo/lib/python3.8/site-packages/threadpoolctl.py\", line 646, in get_version\n",
      "    config = get_config().split()\n",
      "AttributeError: 'NoneType' object has no attribute 'split'\n",
      "Exception ignored on calling ctypes callback function: <function _ThreadpoolInfo._find_modules_with_dl_iterate_phdr.<locals>.match_module_callback at 0x7fb9615f8e50>\n",
      "Traceback (most recent call last):\n",
      "  File \"/home/rankovic/miniconda3/envs/additive_bo/lib/python3.8/site-packages/threadpoolctl.py\", line 400, in match_module_callback\n",
      "    self._make_module_from_path(filepath)\n",
      "  File \"/home/rankovic/miniconda3/envs/additive_bo/lib/python3.8/site-packages/threadpoolctl.py\", line 515, in _make_module_from_path\n",
      "    module = module_class(filepath, prefix, user_api, internal_api)\n",
      "  File \"/home/rankovic/miniconda3/envs/additive_bo/lib/python3.8/site-packages/threadpoolctl.py\", line 606, in __init__\n",
      "    self.version = self.get_version()\n",
      "  File \"/home/rankovic/miniconda3/envs/additive_bo/lib/python3.8/site-packages/threadpoolctl.py\", line 646, in get_version\n",
      "    config = get_config().split()\n",
      "AttributeError: 'NoneType' object has no attribute 'split'\n",
      "Exception ignored on calling ctypes callback function: <function _ThreadpoolInfo._find_modules_with_dl_iterate_phdr.<locals>.match_module_callback at 0x7fb9615f8e50>\n",
      "Traceback (most recent call last):\n",
      "  File \"/home/rankovic/miniconda3/envs/additive_bo/lib/python3.8/site-packages/threadpoolctl.py\", line 400, in match_module_callback\n",
      "    self._make_module_from_path(filepath)\n",
      "  File \"/home/rankovic/miniconda3/envs/additive_bo/lib/python3.8/site-packages/threadpoolctl.py\", line 515, in _make_module_from_path\n",
      "    module = module_class(filepath, prefix, user_api, internal_api)\n",
      "  File \"/home/rankovic/miniconda3/envs/additive_bo/lib/python3.8/site-packages/threadpoolctl.py\", line 606, in __init__\n",
      "    self.version = self.get_version()\n",
      "  File \"/home/rankovic/miniconda3/envs/additive_bo/lib/python3.8/site-packages/threadpoolctl.py\", line 646, in get_version\n",
      "    config = get_config().split()\n",
      "AttributeError: 'NoneType' object has no attribute 'split'\n",
      "Exception ignored on calling ctypes callback function: <function _ThreadpoolInfo._find_modules_with_dl_iterate_phdr.<locals>.match_module_callback at 0x7fb9615f8e50>\n",
      "Traceback (most recent call last):\n",
      "  File \"/home/rankovic/miniconda3/envs/additive_bo/lib/python3.8/site-packages/threadpoolctl.py\", line 400, in match_module_callback\n",
      "    self._make_module_from_path(filepath)\n",
      "  File \"/home/rankovic/miniconda3/envs/additive_bo/lib/python3.8/site-packages/threadpoolctl.py\", line 515, in _make_module_from_path\n",
      "    module = module_class(filepath, prefix, user_api, internal_api)\n",
      "  File \"/home/rankovic/miniconda3/envs/additive_bo/lib/python3.8/site-packages/threadpoolctl.py\", line 606, in __init__\n",
      "    self.version = self.get_version()\n",
      "  File \"/home/rankovic/miniconda3/envs/additive_bo/lib/python3.8/site-packages/threadpoolctl.py\", line 646, in get_version\n",
      "    config = get_config().split()\n",
      "AttributeError: 'NoneType' object has no attribute 'split'\n",
      "Exception ignored on calling ctypes callback function: <function _ThreadpoolInfo._find_modules_with_dl_iterate_phdr.<locals>.match_module_callback at 0x7fb9615f8e50>\n",
      "Traceback (most recent call last):\n",
      "  File \"/home/rankovic/miniconda3/envs/additive_bo/lib/python3.8/site-packages/threadpoolctl.py\", line 400, in match_module_callback\n",
      "    self._make_module_from_path(filepath)\n",
      "  File \"/home/rankovic/miniconda3/envs/additive_bo/lib/python3.8/site-packages/threadpoolctl.py\", line 515, in _make_module_from_path\n",
      "    module = module_class(filepath, prefix, user_api, internal_api)\n",
      "  File \"/home/rankovic/miniconda3/envs/additive_bo/lib/python3.8/site-packages/threadpoolctl.py\", line 606, in __init__\n",
      "    self.version = self.get_version()\n",
      "  File \"/home/rankovic/miniconda3/envs/additive_bo/lib/python3.8/site-packages/threadpoolctl.py\", line 646, in get_version\n",
      "    config = get_config().split()\n",
      "AttributeError: 'NoneType' object has no attribute 'split'\n"
     ]
    },
    {
     "name": "stdout",
     "output_type": "stream",
     "text": [
      "using pca\n",
      "[164, 305, 640, 110, 84, 705, 378, 121, 471, 606] selected reactions\n",
      "Selected reactions: [164, 305, 640, 110, 84, 705, 378, 121, 471, 606]\n"
     ]
    }
   ],
   "source": [
    "featurizer = Featurizer(\n",
    "    nBits=512, bond_radius=7, representation=\"drfp\", task=\"reaction_optimization\"\n",
    ")\n",
    "initializer = BOInitializer(\n",
    "    method=\"kmeans\", n_clusters=10, use_pca=10, metric=\"jaccard\"\n",
    ")\n",
    "dm = BaseDataModule(\n",
    "    data_path=\"../data/additives/additive_rxn_screening_plate_1.csv\",\n",
    "    input_column=\"rxn\",\n",
    "    target_column=\"objective\",\n",
    "    initializer=initializer,\n",
    "    featurizer=featurizer,\n",
    ")"
   ]
  },
  {
   "cell_type": "code",
   "execution_count": null,
   "metadata": {},
   "outputs": [],
   "source": [
    "## Setting up the surrogate model"
   ]
  },
  {
   "cell_type": "code",
   "execution_count": 20,
   "metadata": {},
   "outputs": [],
   "source": [
    "model_config = {\n",
    "    \"class_path\": \"chaos.surrogate_models.gp.SimpleGP\",\n",
    "    \"init_args\": {\n",
    "        \"likelihood\": {\n",
    "            \"class_path\": \"gpytorch.likelihoods.GaussianLikelihood\",\n",
    "        },\n",
    "        \"covar_module\": {\n",
    "            \"class_path\": \"gpytorch.kernels.ScaleKernel\",\n",
    "            \"init_args\": {\n",
    "                \"base_kernel\": {\n",
    "                    \"class_path\": \"gpytorch.kernels.MaternKernel\",\n",
    "                    \"init_args\": {\"eps\": 1.0e-06, \"nu\": 0.5},\n",
    "                },\n",
    "                \"eps\": 1.0e-06,\n",
    "            },\n",
    "        },\n",
    "        \"standardize\": True,\n",
    "        \"normalize\": False,\n",
    "        \"initial_noise_val\": 0.0001,\n",
    "        \"noise_constraint\": 1.0e-05,\n",
    "        \"initial_outputscale_val\": 2.0,\n",
    "        \"initial_lengthscale_val\": 0.5,\n",
    "    },\n",
    "}"
   ]
  },
  {
   "cell_type": "code",
   "execution_count": null,
   "metadata": {},
   "outputs": [],
   "source": [
    "## Setting up the BO loop"
   ]
  },
  {
   "cell_type": "code",
   "execution_count": 21,
   "metadata": {},
   "outputs": [],
   "source": [
    "bo_module = BoModule(\n",
    "        data=dm,\n",
    "        model_config=model_config,\n",
    "        enable_plotting=True,\n",
    "        enable_logging_images=True,\n",
    "        beta=0.1,\n",
    "    )"
   ]
  },
  {
   "cell_type": "code",
   "execution_count": 22,
   "metadata": {},
   "outputs": [
    {
     "name": "stderr",
     "output_type": "stream",
     "text": [
      "Failed to detect the name of this notebook, you can set it manually with the WANDB_NOTEBOOK_NAME environment variable to enable code saving.\n",
      "\u001b[34m\u001b[1mwandb\u001b[0m: Currently logged in as: \u001b[33mbojana-rankovic\u001b[0m (\u001b[33mliac\u001b[0m). Use \u001b[1m`wandb login --relogin`\u001b[0m to force relogin\n"
     ]
    },
    {
     "data": {
      "text/html": [
       "wandb version 0.15.10 is available!  To upgrade, please run:\n",
       " $ pip install wandb --upgrade"
      ],
      "text/plain": [
       "<IPython.core.display.HTML object>"
      ]
     },
     "metadata": {},
     "output_type": "display_data"
    },
    {
     "data": {
      "text/html": [
       "Tracking run with wandb version 0.15.3"
      ],
      "text/plain": [
       "<IPython.core.display.HTML object>"
      ]
     },
     "metadata": {},
     "output_type": "display_data"
    },
    {
     "data": {
      "text/html": [
       "Run data is saved locally in <code>./wandb/run-20230907_130008-9mrvp197</code>"
      ],
      "text/plain": [
       "<IPython.core.display.HTML object>"
      ]
     },
     "metadata": {},
     "output_type": "display_data"
    },
    {
     "data": {
      "text/html": [
       "Syncing run <strong><a href='https://wandb.ai/liac/additives-rebuttal/runs/9mrvp197' target=\"_blank\">morning-spaceship-27089</a></strong> to <a href='https://wandb.ai/liac/additives-rebuttal' target=\"_blank\">Weights & Biases</a> (<a href='https://wandb.me/run' target=\"_blank\">docs</a>)<br/>"
      ],
      "text/plain": [
       "<IPython.core.display.HTML object>"
      ]
     },
     "metadata": {},
     "output_type": "display_data"
    },
    {
     "data": {
      "text/html": [
       " View project at <a href='https://wandb.ai/liac/additives-rebuttal' target=\"_blank\">https://wandb.ai/liac/additives-rebuttal</a>"
      ],
      "text/plain": [
       "<IPython.core.display.HTML object>"
      ]
     },
     "metadata": {},
     "output_type": "display_data"
    },
    {
     "data": {
      "text/html": [
       " View run at <a href='https://wandb.ai/liac/additives-rebuttal/runs/9mrvp197' target=\"_blank\">https://wandb.ai/liac/additives-rebuttal/runs/9mrvp197</a>"
      ],
      "text/plain": [
       "<IPython.core.display.HTML object>"
      ]
     },
     "metadata": {},
     "output_type": "display_data"
    },
    {
     "name": "stderr",
     "output_type": "stream",
     "text": [
      "GPU available: True (cuda), used: False\n",
      "TPU available: False, using: 0 TPU cores\n",
      "IPU available: False, using: 0 IPUs\n",
      "HPU available: False, using: 0 HPUs\n",
      "/home/rankovic/miniconda3/envs/additive_bo/lib/python3.8/site-packages/pytorch_lightning/trainer/setup.py:176: PossibleUserWarning: GPU available but not used. Set `accelerator` and `devices` using `Trainer(accelerator='gpu', devices=1)`.\n",
      "  rank_zero_warn(\n",
      "/home/rankovic/miniconda3/envs/additive_bo/lib/python3.8/site-packages/pytorch_lightning/trainer/configuration_validator.py:68: UserWarning: You passed in a `val_dataloader` but have no `validation_step`. Skipping val loop.\n",
      "  rank_zero_warn(\"You passed in a `val_dataloader` but have no `validation_step`. Skipping val loop.\")\n",
      "/home/rankovic/miniconda3/envs/additive_bo/lib/python3.8/site-packages/pytorch_lightning/core/optimizer.py:171: UserWarning: `LightningModule.configure_optimizers` returned `None`, this fit will run with no optimizer\n",
      "  rank_zero_warn(\n",
      "\n",
      "  | Name | Type | Params\n",
      "------------------------------\n",
      "------------------------------\n",
      "0         Trainable params\n",
      "0         Non-trainable params\n",
      "0         Total params\n",
      "0.000     Total estimated model params size (MB)\n"
     ]
    },
    {
     "data": {
      "application/vnd.jupyter.widget-view+json": {
       "model_id": "e671966a33ea47dc9ab54dd15081a9bd",
       "version_major": 2,
       "version_minor": 0
      },
      "text/plain": [
       "Training: 0it [00:00, ?it/s]"
      ]
     },
     "metadata": {},
     "output_type": "display_data"
    },
    {
     "name": "stderr",
     "output_type": "stream",
     "text": [
      "/home/rankovic/miniconda3/envs/additive_bo/lib/python3.8/site-packages/pytorch_lightning/trainer/connectors/logger_connector/result.py:212: UserWarning: You called `self.log('suggestion_idx', ...)` in your `training_step` but the value needs to be floating point. Converting it to torch.float32.\n",
      "  warning_cache.warn(\n",
      "`Trainer.fit` stopped: `max_epochs=100` reached.\n"
     ]
    },
    {
     "data": {
      "text/html": [
       "Waiting for W&B process to finish... <strong style=\"color:green\">(success).</strong>"
      ],
      "text/plain": [
       "<IPython.core.display.HTML object>"
      ]
     },
     "metadata": {},
     "output_type": "display_data"
    },
    {
     "data": {
      "text/html": [
       "<style>\n",
       "    table.wandb td:nth-child(1) { padding: 0 10px; text-align: left ; width: auto;} td:nth-child(2) {text-align: left ; width: 100%}\n",
       "    .wandb-row { display: flex; flex-direction: row; flex-wrap: wrap; justify-content: flex-start; width: 100% }\n",
       "    .wandb-col { display: flex; flex-direction: column; flex-basis: 100%; flex: 1; padding: 10px; }\n",
       "    </style>\n",
       "<div class=\"wandb-row\"><div class=\"wandb-col\"><h3>Run history:</h3><br/><table class=\"wandb\"><tr><td>MAE_all</td><td>██▃▂▂▂▃▃▃▆▇▅▅▄▅▄▄▄▃▃▃▃▃▃▃▃▄▃▃▃▃▃▂▂▂▁▁▂▂▂</td></tr><tr><td>MAE_bottom_5</td><td>▁▂▄▅▅▅▅▅▅▇█▇▆▆▆▅▅▅▄▄▄▄▄▄▄▄▄▄▃▃▃▃▂▃▂▁▁▂▂▁</td></tr><tr><td>MAE_top_5</td><td>█▇▅▄▃▃▄▄▃▁▁▂▂▂▂▃▃▃▃▃▃▃▃▃▃▃▃▃▄▄▄▄▅▄▅▅▅▅▅▅</td></tr><tr><td>NLPD_all</td><td>█▃▁▁▃▄▂▃▄▃▃▂▁▁▁▁▁▁▁▁▁▁▁▁▁▁▁▁▁▁▁▁▁▁▁▁▁▁▁▁</td></tr><tr><td>NLPD_bottom_5</td><td>█▅▂▁▁▁▂▂▂▂▂▂▁▁▁▁▁▁▁▁▂▂▂▂▂▂▂▂▂▂▂▂▂▂▂▁▂▂▂▁</td></tr><tr><td>NLPD_top_5</td><td>█▄▂▁▁▁▂▂▂▁▁▁▁▂▂▂▂▂▂▂▂▂▂▂▂▂▂▂▂▂▂▂▂▂▂▂▂▂▂▃</td></tr><tr><td>R2_all</td><td>▇▇▇▇▆▆▇▆▆▂▁▃▄▄▄▅▅▄▆▆▅▅▅▅▅▅▅▅▆▆▆▆▇▇▇█████</td></tr><tr><td>R2_bottom_5</td><td>█▇▆▆▅▄▄▄▄▂▁▂▄▃▃▄▄▄▆▆▆▅▅▅▅▅▅▅▅▅▅▅▅▅▅▆▅▅▄▇</td></tr><tr><td>R2_top_5</td><td>▆▆▇███████▇▇▇▇▇▆▆▆▆▆▄▄▄▃▃▃▃▃▃▂▃▂▂▂▂▁▁▁▁▁</td></tr><tr><td>average_similarity</td><td>▁▄▄▅▆▇▆▇▇███▇▇█▇▇█▇▇▇▇▇▇▇▇▇▇▇▇▇▇▆▆▆▆▆▆▆▆</td></tr><tr><td>covar_module.base_kernel.lengthscale</td><td>▁▁▂▃▄▄▃▃▄▆█▅▄▄▄▃▃▄▃▃▃▃▃▃▃▃▃▃▃▃▃▃▃▃▃▃▂▂▂▃</td></tr><tr><td>covar_module.outputscale</td><td>▁▃▃▃▄▄▃▄▄▇█▆▅▅▅▄▄▅▄▄▄▄▄▄▄▄▄▄▄▄▄▄▄▄▄▄▄▄▄▄</td></tr><tr><td>epoch</td><td>▁▁▁▁▂▂▂▂▂▃▃▃▃▃▃▄▄▄▄▄▅▅▅▅▅▅▆▆▆▆▆▇▇▇▇▇▇███</td></tr><tr><td>likelihood.noise_covar.noise</td><td>█▁▁▁▁▁▁▁▁▁▁▁▁▁▁▁▁▁▁▁▁▁▁▁▁▁▁▁▁▁▁▁▁▁▁▁▁▁▁▁</td></tr><tr><td>mean_module.constant</td><td>██▆▄▃▂▃▂▁▁▁▂▃▃▂▂▂▁▂▂▂▂▂▂▃▃▂▃▃▃▃▃▂▂▂▂▃▂▂▂</td></tr><tr><td>suggestion_idx</td><td>█▂▆▄▁▂▄▃▁▃▁▄▂▃▄▂▁▁▁▁▁▂▁▃▃▁▄▄▄▃▅▁▂▁▁▄▁▁▂▁</td></tr><tr><td>sum_acq_values</td><td>▂▄▆▆▇▆▆▆▆███▇▇▇▆▆▆▅▅▅▅▅▅▅▄▄▄▄▃▃▃▃▃▂▂▁▁▁▁</td></tr><tr><td>train/best_so_far</td><td>▁▁▁▁▁▁▁▁▁███████████████████████████████</td></tr><tr><td>train/mae</td><td>█▁▁▁▁▁▁▁▁▁▁▁▁▁▁▁▁▁▁▁▁▁▁▁▁▁▁▁▁▁▁▁▁▁▁▁▁▁▁▁</td></tr><tr><td>train/mse</td><td>█▁▁▁▁▁▁▁▁▁▁▁▁▁▁▁▁▁▁▁▁▁▁▁▁▁▁▁▁▁▁▁▁▁▁▁▁▁▁▁</td></tr><tr><td>train/msll</td><td>█▂▁▁▁▂▁▁▁▁▁▁▁▂▃▁▁▁▁▁▁▂▂▂▁▁▂▂▂▁▁▁▁▁▁▂▂▁▁▁</td></tr><tr><td>train/nlpd</td><td>█▂▁▁▁▂▁▁▁▁▁▁▁▂▃▁▁▁▁▁▁▂▂▂▁▁▂▂▂▁▁▁▁▁▁▂▂▁▁▁</td></tr><tr><td>train/qce</td><td>▁▁▁▁▁▁▁▁▁▁▁▁▁▁▁▁▁▁▁▁▁▁▁▁▁▁▁▁▁▁▁▁▁▁▁▁▁▁▁▁</td></tr><tr><td>train/r2</td><td>▁███████████████████████████████████████</td></tr><tr><td>train/suggestion</td><td>▄▆▅▆▅▅▅▆██▁▁▆▆▅▆▆▃▅█▅▃▆▅▅▅▁▅▅▄▄▁▅▅▂▁▄▅▁▁</td></tr><tr><td>trainer/global_step</td><td>▁▁▁▁▂▂▂▂▂▃▃▃▃▃▃▄▄▄▄▄▅▅▅▅▅▅▆▆▆▆▆▇▇▇▇▇▇███</td></tr><tr><td>valid/mae</td><td>██▃▂▂▂▃▃▃▆▇▅▅▄▅▄▄▄▃▃▃▃▃▃▃▃▄▃▃▃▃▃▂▂▂▁▁▂▂▂</td></tr><tr><td>valid/mse</td><td>▃▃▃▃▄▄▃▄▄▇█▆▆▅▅▄▄▅▃▄▄▄▄▄▃▃▄▃▃▃▃▂▂▂▂▁▁▁▁▁</td></tr><tr><td>valid/msll</td><td>▇▄▃▂▂▁▁▁▁▅▆▇███▇▇▆▇▆▇▆▆▇▇▇▆▇▆▆▆▆▆▆▆▆▆▆▆▆</td></tr><tr><td>valid/nlpd</td><td>▆▅▂▂▅█▄▅█▅▆▂▁▁▂▁▁▂▁▁▁▁▁▁▁▁▁▁▁▁▁▁▁▁▁▁▁▁▁▁</td></tr><tr><td>valid/qce</td><td>▅▅▄▁▅█▃▅█▅▆▁▃▃▃▄▃▃▄▄▄▄▃▄▅▅▄▅▅▅▅▅▅▅▅▅▅▅▅▅</td></tr><tr><td>valid/r2</td><td>▇▇▇▇▆▆▇▆▆▂▁▃▄▄▄▅▅▄▆▆▅▅▅▅▅▅▅▅▆▆▆▆▇▇▇█████</td></tr></table><br/></div><div class=\"wandb-col\"><h3>Run summary:</h3><br/><table class=\"wandb\"><tr><td>MAE_all</td><td>19181.68047</td></tr><tr><td>MAE_bottom_5</td><td>31188.69941</td></tr><tr><td>MAE_top_5</td><td>29258.42342</td></tr><tr><td>NLPD_all</td><td>11.3559</td></tr><tr><td>NLPD_bottom_5</td><td>11.55767</td></tr><tr><td>NLPD_top_5</td><td>11.53732</td></tr><tr><td>R2_all</td><td>0.02613</td></tr><tr><td>R2_bottom_5</td><td>-39782.74121</td></tr><tr><td>R2_top_5</td><td>-36.64496</td></tr><tr><td>average_similarity</td><td>0.53831</td></tr><tr><td>covar_module.base_kernel.lengthscale</td><td>3.76106</td></tr><tr><td>covar_module.outputscale</td><td>1.30317</td></tr><tr><td>epoch</td><td>99</td></tr><tr><td>input_stat_feature_dimension</td><td>512</td></tr><tr><td>input_stat_n_points</td><td>720</td></tr><tr><td>likelihood.noise_covar.noise</td><td>1e-05</td></tr><tr><td>mean_module.constant</td><td>-0.82846</td></tr><tr><td>quantile_75_count</td><td>46</td></tr><tr><td>quantile_90_count</td><td>18</td></tr><tr><td>quantile_95_count</td><td>11</td></tr><tr><td>quantile_99_count</td><td>5</td></tr><tr><td>suggestion_idx</td><td>35.0</td></tr><tr><td>sum_acq_values</td><td>24513341.92247</td></tr><tr><td>target_stat_max</td><td>86045.92668</td></tr><tr><td>target_stat_mean</td><td>31774.73684</td></tr><tr><td>target_stat_std</td><td>22052.69712</td></tr><tr><td>target_stat_var</td><td>486321450.13971</td></tr><tr><td>top_10_count</td><td>5</td></tr><tr><td>top_1_count</td><td>1</td></tr><tr><td>top_3_count</td><td>3</td></tr><tr><td>top_5_count</td><td>4</td></tr><tr><td>train/best_so_far</td><td>86045.92668</td></tr><tr><td>train/mae</td><td>0.21061</td></tr><tr><td>train/mse</td><td>0.06856</td></tr><tr><td>train/msll</td><td>5.56297</td></tr><tr><td>train/nlpd</td><td>5.56297</td></tr><tr><td>train/qce</td><td>0.05</td></tr><tr><td>train/r2</td><td>1.0</td></tr><tr><td>train/suggestion</td><td>5182.89305</td></tr><tr><td>trainer/global_step</td><td>99</td></tr><tr><td>valid/mae</td><td>19181.68047</td></tr><tr><td>valid/mse</td><td>453506457.35399</td></tr><tr><td>valid/msll</td><td>11.16339</td></tr><tr><td>valid/nlpd</td><td>11.3559</td></tr><tr><td>valid/qce</td><td>0.04836</td></tr><tr><td>valid/r2</td><td>0.02613</td></tr></table><br/></div></div>"
      ],
      "text/plain": [
       "<IPython.core.display.HTML object>"
      ]
     },
     "metadata": {},
     "output_type": "display_data"
    },
    {
     "data": {
      "text/html": [
       " View run <strong style=\"color:#cdcd00\">morning-spaceship-27089</strong> at: <a href='https://wandb.ai/liac/additives-rebuttal/runs/9mrvp197' target=\"_blank\">https://wandb.ai/liac/additives-rebuttal/runs/9mrvp197</a><br/>Synced 6 W&B file(s), 200 media file(s), 0 artifact file(s) and 0 other file(s)"
      ],
      "text/plain": [
       "<IPython.core.display.HTML object>"
      ]
     },
     "metadata": {},
     "output_type": "display_data"
    },
    {
     "data": {
      "text/html": [
       "Find logs at: <code>./wandb/run-20230907_130008-9mrvp197/logs</code>"
      ],
      "text/plain": [
       "<IPython.core.display.HTML object>"
      ]
     },
     "metadata": {},
     "output_type": "display_data"
    }
   ],
   "source": [
    "logger = (\n",
    "    WandbLogger(project=\"additives-rebuttal\") if bo_module.enable_plotting else None\n",
    ")\n",
    "trainer = Trainer(\n",
    "    max_epochs=100,\n",
    "    logger=logger,\n",
    "    log_every_n_steps=1,\n",
    "    num_sanity_val_steps=0,\n",
    "    min_epochs=1,\n",
    "    max_steps=-1,\n",
    "    accelerator=\"cpu\",\n",
    "    devices=1,\n",
    ")\n",
    "trainer.fit(bo_module)"
   ]
  },
  {
   "cell_type": "code",
   "execution_count": null,
   "metadata": {},
   "outputs": [],
   "source": [
    "## running for multiple seeds"
   ]
  },
  {
   "cell_type": "code",
   "execution_count": null,
   "metadata": {},
   "outputs": [],
   "source": [
    "for seed in list(range(1, 21)):\n",
    "    seed_everything(1)\n",
    "    featurizer = Featurizer(\n",
    "        nBits=512, bond_radius=7, representation=\"drfp\", task=\"reaction_optimization\"\n",
    "    )\n",
    "    initializer = BOInitializer(\n",
    "        method=\"kmeans\", n_clusters=10, use_pca=10, metric=\"jaccard\"\n",
    "    )\n",
    "    dm = BaseDataModule(\n",
    "        data_path=\"../data/additives/additive_rxn_screening_plate_1.csv\",\n",
    "        input_column=\"rxn\",\n",
    "        target_column=\"objective\",\n",
    "        initializer=initializer,\n",
    "        featurizer=featurizer,\n",
    "    )\n",
    "    bo_module = BoModule(\n",
    "        data=dm,\n",
    "        model_config=model_config,\n",
    "        enable_plotting=True,\n",
    "        enable_logging_images=True,\n",
    "        beta=0.1,\n",
    "    )\n",
    "    logger = (\n",
    "        WandbLogger(project=\"additives-rebuttal\") if bo_module.enable_plotting else None\n",
    "    )\n",
    "    trainer = Trainer(\n",
    "        max_epochs=100,\n",
    "        logger=logger,\n",
    "        log_every_n_steps=1,\n",
    "        num_sanity_val_steps=0,\n",
    "        min_epochs=1,\n",
    "        max_steps=-1,\n",
    "        accelerator=\"cpu\",\n",
    "        devices=1,\n",
    "    )\n",
    "    trainer.fit(bo_module)"
   ]
  }
 ],
 "metadata": {
  "kernelspec": {
   "display_name": "additive_bo",
   "language": "python",
   "name": "python3"
  },
  "language_info": {
   "codemirror_mode": {
    "name": "ipython",
    "version": 3
   },
   "file_extension": ".py",
   "mimetype": "text/x-python",
   "name": "python",
   "nbconvert_exporter": "python",
   "pygments_lexer": "ipython3",
   "version": "3.8.16"
  },
  "orig_nbformat": 4
 },
 "nbformat": 4,
 "nbformat_minor": 2
}
