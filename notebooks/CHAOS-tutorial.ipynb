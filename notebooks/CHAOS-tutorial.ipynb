{
 "cells": [
  {
   "cell_type": "code",
   "execution_count": 1,
   "metadata": {},
   "outputs": [],
   "source": [
    "%load_ext autoreload \n",
    "%autoreload 2"
   ]
  },
  {
   "cell_type": "code",
   "execution_count": 3,
   "metadata": {},
   "outputs": [
    {
     "name": "stderr",
     "output_type": "stream",
     "text": [
      "/home/rankovic/miniconda3/envs/chaos/lib/python3.8/site-packages/tqdm/auto.py:21: TqdmWarning: IProgress not found. Please update jupyter and ipywidgets. See https://ipywidgets.readthedocs.io/en/stable/user_install.html\n",
      "  from .autonotebook import tqdm as notebook_tqdm\n"
     ]
    },
    {
     "name": "stdout",
     "output_type": "stream",
     "text": [
      "Python implementation: CPython\n",
      "Python version       : 3.8.17\n",
      "IPython version      : 8.12.0\n",
      "\n",
      "numpy       : 1.24.3\n",
      "pandas      : 2.0.3\n",
      "scipy       : 1.10.1\n",
      "scikit-learn: 1.3.0\n",
      "torch       : 2.0.1\n",
      "rdkit       : 2023.3.3\n",
      "gpytorch    : 1.11\n",
      "matplotlib  : 3.7.2\n",
      "botorch     : 0.8.5\n",
      "wandb       : 0.15.10\n",
      "\n"
     ]
    }
   ],
   "source": [
    "%load_ext watermark\n",
    "%watermark -v -p numpy,pandas,scipy,scikit-learn,torch,rdkit,gpytorch,matplotlib,botorch,wandb\n"
   ]
  },
  {
   "cell_type": "code",
   "execution_count": 9,
   "metadata": {},
   "outputs": [],
   "source": [
    "from chaos.data.module import BaseDataModule, Featurizer\n",
    "from chaos.bo.module import BoModule\n",
    "from chaos.initialization.initializers import BOInitializer\n",
    "from pytorch_lightning import seed_everything\n",
    "from pytorch_lightning import Trainer\n",
    "from pytorch_lightning.loggers import WandbLogger\n",
    "from chaos.utils import instantiate_class"
   ]
  },
  {
   "cell_type": "markdown",
   "metadata": {},
   "source": [
    "# CHAOS Tutorial\n",
    "\n",
    "Welcome to CHAOS! (tutorial) We will walk through the entire workflow of the CHAOS framework, starting with loading your dataset from a CSV file to running a Bayesian optimization loop to find the optimal experimental settings for your chemical reactions.\n",
    "\n",
    "## Introduction\n",
    "\n",
    "CHAOS, which stands for CHemical Additives Optimization Screening is an open-source framework that leverages Bayesian optimization and machine learning to facilitate the optimization of chemical reactions. The objective of this tutorial is to provide a hands-on guide to using CHAOS for chemical reaction optimization.\n"
   ]
  },
  {
   "cell_type": "markdown",
   "metadata": {},
   "source": [
    "## Data loading and featurization\n",
    "\n",
    "CHAOS provides an easy way to featurize molecules or reactions using a variety or representations. Depending on the type of the task (molecular vs reaction optimization) you can set up the Featurizer. In the following cells we demonstrate how to set up a featurizer using DRFP representations for reaction optimization, or fragprints for molecular optimization."
   ]
  },
  {
   "cell_type": "code",
   "execution_count": 15,
   "metadata": {},
   "outputs": [],
   "source": [
    "## Fragprints\n",
    "featurizer = Featurizer(\n",
    "    nBits=512, bond_radius=3, representation=\"fragprints\", task=\"molecular_optimization\"\n",
    ")\n",
    "## DRFP\n",
    "featurizer = Featurizer(\n",
    "    nBits=512, bond_radius=7, representation=\"drfp\", task=\"reaction_optimization\"\n",
    ")\n"
   ]
  },
  {
   "cell_type": "markdown",
   "metadata": {},
   "source": [
    "If you want to employ a specific initialization, you can use the BOInitializer object. Depending on the method, it will provide selection using either clustering, maxmin strategy or random sampling. We show how to set each of these options. "
   ]
  },
  {
   "cell_type": "code",
   "execution_count": 6,
   "metadata": {},
   "outputs": [],
   "source": [
    "## Kmeans\n",
    "initializer = BOInitializer(method=\"kmeans\", n_clusters=10, use_pca=10)\n",
    "## Kmedoids\n",
    "initializer = BOInitializer(method=\"kmedoids\", n_clusters=10, metric=\"jaccard\")\n",
    "## MaxMin\n",
    "initializer = BOInitializer(method=\"maxmin\", n_clusters=10, metric=\"jaccard\")\n",
    "## Random\n",
    "initializer = BOInitializer(method=\"true_random\", n_clusters=10, metric=\"jaccard\")\n",
    "\n"
   ]
  },
  {
   "cell_type": "markdown",
   "metadata": {},
   "source": [
    "Finally we can employ the data module, responsible for storing the featurized data, preprocessing it and splitting into the train and heldout sets. It takes as input the path to a .csv file containing smiles of the reaction components to be screened. The *input_column* is the column of the .csv file that contains the specific component for optimization. For molecular optimization, as in the paper, this would be a column where the set of additive smiles are stored. For reaction representation, the column needs to contain reaction smiles. In the case of OHE you can forward a list of columns, and the featurization would create a unifying OHE vector based on those columns.\n",
    "\n",
    "The target column is the column containing the objective values. Additionally it takes as input initializer and featurizer objects. "
   ]
  },
  {
   "cell_type": "code",
   "execution_count": 16,
   "metadata": {},
   "outputs": [
    {
     "name": "stdout",
     "output_type": "stream",
     "text": [
      "[383, 324, 681, 259, 510, 223, 507, 577, 456, 669] selected reactions\n",
      "Selected reactions: [383, 324, 681, 259, 510, 223, 507, 577, 456, 669]\n"
     ]
    }
   ],
   "source": [
    "dm = BaseDataModule(\n",
    "    data_path=\"../data/additives/additive_rxn_screening_plate_1.csv\",\n",
    "    input_column=\"rxn\",\n",
    "    target_column=\"objective\",\n",
    "    initializer=initializer,\n",
    "    featurizer=featurizer,\n",
    ")"
   ]
  },
  {
   "cell_type": "code",
   "execution_count": 18,
   "metadata": {},
   "outputs": [
    {
     "data": {
      "text/plain": [
       "(torch.Size([10, 512]),\n",
       " torch.Size([10, 1]),\n",
       " torch.Size([710, 512]),\n",
       " torch.Size([710, 1]),\n",
       " torch.Size([720, 512]),\n",
       " torch.Size([720, 1]))"
      ]
     },
     "execution_count": 18,
     "metadata": {},
     "output_type": "execute_result"
    }
   ],
   "source": [
    "dm.train_x.shape, dm.train_y.shape, dm.heldout_x.shape, dm.heldout_y.shape, dm.x.shape, dm.y.shape"
   ]
  },
  {
   "cell_type": "markdown",
   "metadata": {},
   "source": [
    "## Setting up the surrogate model\n",
    "\n",
    "The surrogate model can be initialized based on a formatted config defining the necessary arguments like the specific kernel, noise constraints and whether to standardize the output. If you want to change the kernel, just put edit the path to the kernel class, for example *gpytorch.kernels.LinearKernel* or custom kernels, for example from GauChe, you can use them here. \n"
   ]
  },
  {
   "cell_type": "code",
   "execution_count": 11,
   "metadata": {},
   "outputs": [],
   "source": [
    "model_config = {\n",
    "    \"class_path\": \"chaos.surrogate_models.gp.SimpleGP\",\n",
    "    \"init_args\": {\n",
    "        \"likelihood\": {\n",
    "            \"class_path\": \"gpytorch.likelihoods.GaussianLikelihood\",\n",
    "        },\n",
    "        \"covar_module\": {\n",
    "            \"class_path\": \"gpytorch.kernels.ScaleKernel\",\n",
    "            \"init_args\": {\n",
    "                \"base_kernel\": {\n",
    "                    \"class_path\": \"gpytorch.kernels.MaternKernel\",\n",
    "                    \"init_args\": {\"eps\": 1.0e-06, \"nu\": 0.5},\n",
    "                },\n",
    "                \"eps\": 1.0e-06,\n",
    "            },\n",
    "        },\n",
    "        \"standardize\": True,\n",
    "        \"normalize\": False,\n",
    "        \"initial_noise_val\": 0.0001,\n",
    "        \"noise_constraint\": 1.0e-05,\n",
    "        \"initial_outputscale_val\": 2.0,\n",
    "        \"initial_lengthscale_val\": 0.5,\n",
    "    },\n",
    "}"
   ]
  },
  {
   "cell_type": "code",
   "execution_count": 19,
   "metadata": {},
   "outputs": [],
   "source": [
    "gp = instantiate_class(model_config, train_x=dm.train_x, train_y=dm.train_y)"
   ]
  },
  {
   "cell_type": "markdown",
   "metadata": {},
   "source": [
    "## Setting up the BO loop\n",
    "The main module for Bayesian optimization is BoModule with primary inputs like the data and the model_config. We can use it inside the pytorch lightning Trainer object to run the BO iterations. All the metrics are saved to wandb."
   ]
  },
  {
   "cell_type": "code",
   "execution_count": 21,
   "metadata": {},
   "outputs": [],
   "source": [
    "bo_module = BoModule(\n",
    "        data=dm,\n",
    "        model_config=model_config,\n",
    "        enable_plotting=True,\n",
    "        enable_logging_images=True,\n",
    "        beta=0.1,\n",
    "    )"
   ]
  },
  {
   "cell_type": "code",
   "execution_count": 22,
   "metadata": {},
   "outputs": [
    {
     "name": "stderr",
     "output_type": "stream",
     "text": [
      "Failed to detect the name of this notebook, you can set it manually with the WANDB_NOTEBOOK_NAME environment variable to enable code saving.\n",
      "\u001b[34m\u001b[1mwandb\u001b[0m: Currently logged in as: \u001b[33mbojana-rankovic\u001b[0m (\u001b[33mliac\u001b[0m). Use \u001b[1m`wandb login --relogin`\u001b[0m to force relogin\n"
     ]
    },
    {
     "data": {
      "text/html": [
       "Tracking run with wandb version 0.15.10"
      ],
      "text/plain": [
       "<IPython.core.display.HTML object>"
      ]
     },
     "metadata": {},
     "output_type": "display_data"
    },
    {
     "data": {
      "text/html": [
       "Run data is saved locally in <code>./wandb/run-20230907_234149-g3inpl2z</code>"
      ],
      "text/plain": [
       "<IPython.core.display.HTML object>"
      ]
     },
     "metadata": {},
     "output_type": "display_data"
    },
    {
     "data": {
      "text/html": [
       "Syncing run <strong><a href='https://wandb.ai/liac/chaos-tutorial/runs/g3inpl2z' target=\"_blank\">genial-sunset-1</a></strong> to <a href='https://wandb.ai/liac/chaos-tutorial' target=\"_blank\">Weights & Biases</a> (<a href='https://wandb.me/run' target=\"_blank\">docs</a>)<br/>"
      ],
      "text/plain": [
       "<IPython.core.display.HTML object>"
      ]
     },
     "metadata": {},
     "output_type": "display_data"
    },
    {
     "data": {
      "text/html": [
       " View project at <a href='https://wandb.ai/liac/chaos-tutorial' target=\"_blank\">https://wandb.ai/liac/chaos-tutorial</a>"
      ],
      "text/plain": [
       "<IPython.core.display.HTML object>"
      ]
     },
     "metadata": {},
     "output_type": "display_data"
    },
    {
     "data": {
      "text/html": [
       " View run at <a href='https://wandb.ai/liac/chaos-tutorial/runs/g3inpl2z' target=\"_blank\">https://wandb.ai/liac/chaos-tutorial/runs/g3inpl2z</a>"
      ],
      "text/plain": [
       "<IPython.core.display.HTML object>"
      ]
     },
     "metadata": {},
     "output_type": "display_data"
    },
    {
     "name": "stderr",
     "output_type": "stream",
     "text": [
      "GPU available: False, used: False\n",
      "TPU available: False, using: 0 TPU cores\n",
      "IPU available: False, using: 0 IPUs\n",
      "HPU available: False, using: 0 HPUs\n",
      "/home/rankovic/miniconda3/envs/chaos/lib/python3.8/site-packages/pytorch_lightning/trainer/configuration_validator.py:68: UserWarning: You passed in a `val_dataloader` but have no `validation_step`. Skipping val loop.\n",
      "  rank_zero_warn(\"You passed in a `val_dataloader` but have no `validation_step`. Skipping val loop.\")\n",
      "/home/rankovic/miniconda3/envs/chaos/lib/python3.8/site-packages/pytorch_lightning/core/optimizer.py:171: UserWarning: `LightningModule.configure_optimizers` returned `None`, this fit will run with no optimizer\n",
      "  rank_zero_warn(\n",
      "\n",
      "  | Name | Type | Params\n",
      "------------------------------\n",
      "------------------------------\n",
      "0         Trainable params\n",
      "0         Non-trainable params\n",
      "0         Total params\n",
      "0.000     Total estimated model params size (MB)\n"
     ]
    },
    {
     "name": "stdout",
     "output_type": "stream",
     "text": [
      "Epoch 0:   0%|          | 0/1 [00:00<?, ?it/s] "
     ]
    },
    {
     "name": "stderr",
     "output_type": "stream",
     "text": [
      "/home/rankovic/miniconda3/envs/chaos/lib/python3.8/site-packages/pytorch_lightning/trainer/connectors/logger_connector/result.py:212: UserWarning: You called `self.log('suggestion_idx', ...)` in your `training_step` but the value needs to be floating point. Converting it to torch.float32.\n",
      "  warning_cache.warn(\n"
     ]
    },
    {
     "name": "stdout",
     "output_type": "stream",
     "text": [
      "Epoch 99: 100%|██████████| 1/1 [00:00<00:00,  1.54it/s, v_num=pl2z]"
     ]
    },
    {
     "name": "stderr",
     "output_type": "stream",
     "text": [
      "`Trainer.fit` stopped: `max_epochs=100` reached.\n"
     ]
    },
    {
     "name": "stdout",
     "output_type": "stream",
     "text": [
      "Epoch 99: 100%|██████████| 1/1 [00:00<00:00,  1.53it/s, v_num=pl2z]\n"
     ]
    },
    {
     "data": {
      "text/html": [
       "Waiting for W&B process to finish... <strong style=\"color:green\">(success).</strong>"
      ],
      "text/plain": [
       "<IPython.core.display.HTML object>"
      ]
     },
     "metadata": {},
     "output_type": "display_data"
    },
    {
     "name": "stderr",
     "output_type": "stream",
     "text": [
      "wandb: WARNING Source type is set to 'repo' but some required information is missing from the environment. A job will not be created from this run. See https://docs.wandb.ai/guides/launch/create-job\n"
     ]
    },
    {
     "data": {
      "text/html": [
       "<style>\n",
       "    table.wandb td:nth-child(1) { padding: 0 10px; text-align: left ; width: auto;} td:nth-child(2) {text-align: left ; width: 100%}\n",
       "    .wandb-row { display: flex; flex-direction: row; flex-wrap: wrap; justify-content: flex-start; width: 100% }\n",
       "    .wandb-col { display: flex; flex-direction: column; flex-basis: 100%; flex: 1; padding: 10px; }\n",
       "    </style>\n",
       "<div class=\"wandb-row\"><div class=\"wandb-col\"><h3>Run history:</h3><br/><table class=\"wandb\"><tr><td>MAE_all</td><td>█▃▁▁▁▁▂▂▂▂▂▃▃▃▃▃▃▃▃▂▂▂▂▂▂▂▂▂▂▃▂▂▂▂▂▂▂▂▂▂</td></tr><tr><td>MAE_bottom_5</td><td>▃▆▇█▇▇▇█▇▆▆▅▅▄▄▃▄▄▄▅▅▅▅▅▄▅▄▄▄▃▂▂▁▁▁▂▂▂▂▂</td></tr><tr><td>MAE_top_5</td><td>█▄▂▁▂▃▂▂▃▄▃▄▄▅▅▆▅▅▄▃▃▃▃▄▄▄▄▄▄▅▅▅▆▆▆▆▆▆▆▇</td></tr><tr><td>NLPD_all</td><td>▅▁▂▄▇▃▆█▅▂▄▂▂▂▂▁▁▂▂▂▂▂▃▂▂▂▂▂▂▁▁▁▁▁▁▁▁▁▁▁</td></tr><tr><td>NLPD_bottom_5</td><td>█▂▁▁▁▂▃▃▃▃▃▃▃▃▃▃▃▃▄▅▅▆▆▆▅▆▅▅▅▃▃▃▂▂▂▃▃▃▃▃</td></tr><tr><td>NLPD_top_5</td><td>█▂▁▁▁▂▂▂▂▃▃▃▄▄▅▅▅▅▅▄▄▄▄▅▅▅▅▅▅▆▆▆▆▆▆▆▆▇▇▇</td></tr><tr><td>R2_all</td><td>▁█▆▄▆▆▅▄▅▇▆▇▇██████▇▇▇▇▇█▇█▇▇▇██████▇▇▇▇</td></tr><tr><td>R2_bottom_5</td><td>▇▅▄▃▄▃▂▂▃▄▃▄▄▄▄▅▄▄▄▃▃▁▁▂▂▂▄▄▅▇▇▇████▆▇▇▇</td></tr><tr><td>R2_top_5</td><td>▁▅▇█▇▇▇█▇▆▇▆▆▅▄▄▅▅▅▄▅▅▅▄▃▄▄▄▄▃▂▂▂▁▂▂▂▂▂▂</td></tr><tr><td>average_similarity</td><td>▁▂▅▆▇▇███▇██▇▇▇▇▇▇▇▇█▇▇▇▇▇▇▇▇▇▇▆▆▆▆▆▆▆▆▆</td></tr><tr><td>covar_module.base_kernel.lengthscale</td><td>▁▂▅▇█▅▇█▆▄▅▄▃▃▃▃▃▃▃▃▃▃▃▃▃▃▃▃▃▃▃▃▃▃▂▂▃▂▃▃</td></tr><tr><td>covar_module.outputscale</td><td>▁▁▃▅▆▅▇█▆▅▆▅▄▃▃▃▄▄▄▄▅▄▅▄▄▄▄▄▄▄▃▃▃▃▃▃▄▃▄▄</td></tr><tr><td>epoch</td><td>▁▁▁▁▂▂▂▂▂▃▃▃▃▃▃▄▄▄▄▄▅▅▅▅▅▅▆▆▆▆▆▇▇▇▇▇▇███</td></tr><tr><td>likelihood.noise_covar.noise</td><td>▅▃▃▁▂▁▁▁▆▂▂▁▁▄▁▂▂▁▁▂▂▂▃▁▁▃▁▂▂▂▃▂▇▁▁█▃▆▂▂</td></tr><tr><td>mean_module.constant</td><td>█▆▄▃▂▂▂▁▁▂▁▂▂▂▂▂▂▂▂▂▁▁▁▁▁▁▁▁▁▁▂▂▂▂▂▂▂▂▂▂</td></tr><tr><td>suggestion_idx</td><td>▂▇▅▅▃▂▂▂▄▂▅▂▆▅█▃▄▃▁▂▂▁▁▁▁▄▁▁▁▅▅▃▄▄▁▁▁▁▆▂</td></tr><tr><td>sum_acq_values</td><td>▄▇██▇▇▇▇▆▆▆▅▅▄▄▄▄▄▄▅▄▄▄▄▃▄▃▃▃▃▂▂▂▂▁▂▂▁▁▁</td></tr><tr><td>train/best_so_far</td><td>▁▁▁▁▁▃▃▃▃▃▃▃▃▃▃▃▃▃▃█████████████████████</td></tr><tr><td>train/mae</td><td>█▅▅▃▃▂▂▂▆▃▂▁▁▄▁▃▂▁▁▂▁▁▂▁▁▃▁▂▂▂▃▂▆▂▂█▄▆▂▂</td></tr><tr><td>train/mse</td><td>▆▄▄▂▂▂▂▂▆▂▂▁▁▃▁▂▂▁▁▁▁▁▂▁▁▂▁▂▁▂▃▁▆▁▁█▃▅▁▂</td></tr><tr><td>train/msll</td><td>█▆▆▄▄▃▂▁▅▃▂▂▁▄▁▃▃▁▁▂▂▂▂▁▁▃▁▂▂▃▄▂▇▂▂█▄▆▃▃</td></tr><tr><td>train/nlpd</td><td>█▆▆▄▄▃▂▁▅▃▂▂▁▄▁▃▃▁▁▂▂▂▂▁▁▃▁▂▂▃▄▂▇▂▂█▄▆▃▃</td></tr><tr><td>train/qce</td><td>▁▁▁▁▁▁▁▁▁▁▁▁▁▁▁▁▁▁▁▁▁▁▁▁▁▁▁▁▁▁▁▁▁▁▁▁▁▁▁▁</td></tr><tr><td>train/r2</td><td>▁▁▁▁▁▁▁▁▁▁▁▁▁▁▁▁▁▁▁▁▁▁▁▁▁▁▁▁▁▁▁▁▁▁▁▁▁▁▁▁</td></tr><tr><td>train/suggestion</td><td>▇▆▇▆▇▆▆▆▆▆▂▂▁▆▂▇▆▇▆▆▃▆▁▃█▆▆▆▅▆▇▃▁▆▇▆▆▁▆▆</td></tr><tr><td>trainer/global_step</td><td>▁▁▁▁▂▂▂▂▂▃▃▃▃▃▃▄▄▄▄▄▅▅▅▅▅▅▆▆▆▆▆▇▇▇▇▇▇███</td></tr><tr><td>valid/mae</td><td>█▃▁▁▁▁▂▂▂▂▂▃▃▃▃▃▃▃▃▂▂▂▂▂▂▂▂▂▂▃▂▂▂▂▂▂▂▂▂▂</td></tr><tr><td>valid/mse</td><td>█▂▄▅▄▄▅▅▅▃▄▃▃▂▂▂▂▃▃▂▃▃▃▂▂▂▂▂▂▂▂▁▂▁▁▁▁▁▁▁</td></tr><tr><td>valid/msll</td><td>█▆▃▂▁▂▁▁▂▂▂▃▂▂▂▃▃▃▂▃▃▂▂▂▂▂▃▂▃▃▄▄▄▄▄▄▄▄▅▅</td></tr><tr><td>valid/nlpd</td><td>▅▁▂▄▇▃▆█▅▂▄▂▂▂▂▁▁▂▂▂▂▂▃▂▂▂▂▂▂▁▁▁▁▁▁▁▁▁▁▁</td></tr><tr><td>valid/qce</td><td>██▄▁▂▃▁▄▁▄▂▅▅▆▇▇▇▆▅▆▅▅▅▅▆▅▇▇▇▇██████████</td></tr><tr><td>valid/r2</td><td>▁█▆▄▆▆▅▄▅▇▆▇▇██████▇▇▇▇▇█▇█▇▇▇██████▇▇▇▇</td></tr></table><br/></div><div class=\"wandb-col\"><h3>Run summary:</h3><br/><table class=\"wandb\"><tr><td>MAE_all</td><td>18923.10185</td></tr><tr><td>MAE_bottom_5</td><td>26940.4042</td></tr><tr><td>MAE_top_5</td><td>35240.31272</td></tr><tr><td>NLPD_all</td><td>11.35537</td></tr><tr><td>NLPD_bottom_5</td><td>11.41423</td></tr><tr><td>NLPD_top_5</td><td>11.8299</td></tr><tr><td>R2_all</td><td>0.05764</td></tr><tr><td>R2_bottom_5</td><td>-29944.17245</td></tr><tr><td>R2_top_5</td><td>-22.10333</td></tr><tr><td>average_similarity</td><td>0.54841</td></tr><tr><td>covar_module.base_kernel.lengthscale</td><td>3.86918</td></tr><tr><td>covar_module.outputscale</td><td>1.2904</td></tr><tr><td>epoch</td><td>99</td></tr><tr><td>input_stat_feature_dimension</td><td>512</td></tr><tr><td>input_stat_n_points</td><td>720</td></tr><tr><td>likelihood.noise_covar.noise</td><td>1e-05</td></tr><tr><td>mean_module.constant</td><td>-1.00262</td></tr><tr><td>quantile_75_count</td><td>46</td></tr><tr><td>quantile_90_count</td><td>19</td></tr><tr><td>quantile_95_count</td><td>9</td></tr><tr><td>quantile_99_count</td><td>2</td></tr><tr><td>suggestion_idx</td><td>64.0</td></tr><tr><td>sum_acq_values</td><td>22060556.98459</td></tr><tr><td>target_stat_max</td><td>86045.92668</td></tr><tr><td>target_stat_mean</td><td>31774.73684</td></tr><tr><td>target_stat_std</td><td>22052.69712</td></tr><tr><td>target_stat_var</td><td>486321450.13971</td></tr><tr><td>top_10_count</td><td>3</td></tr><tr><td>top_1_count</td><td>0</td></tr><tr><td>top_3_count</td><td>1</td></tr><tr><td>top_5_count</td><td>1</td></tr><tr><td>train/best_so_far</td><td>85748.90075</td></tr><tr><td>train/mae</td><td>0.21577</td></tr><tr><td>train/mse</td><td>0.06555</td></tr><tr><td>train/msll</td><td>5.55546</td></tr><tr><td>train/nlpd</td><td>5.55546</td></tr><tr><td>train/qce</td><td>0.05</td></tr><tr><td>train/r2</td><td>1.0</td></tr><tr><td>train/suggestion</td><td>47940.7581</td></tr><tr><td>trainer/global_step</td><td>99</td></tr><tr><td>valid/mae</td><td>18923.10185</td></tr><tr><td>valid/mse</td><td>443663398.39005</td></tr><tr><td>valid/msll</td><td>11.16291</td></tr><tr><td>valid/nlpd</td><td>11.35537</td></tr><tr><td>valid/qce</td><td>0.04345</td></tr><tr><td>valid/r2</td><td>0.05764</td></tr></table><br/></div></div>"
      ],
      "text/plain": [
       "<IPython.core.display.HTML object>"
      ]
     },
     "metadata": {},
     "output_type": "display_data"
    },
    {
     "data": {
      "text/html": [
       " View run <strong style=\"color:#cdcd00\">genial-sunset-1</strong> at: <a href='https://wandb.ai/liac/chaos-tutorial/runs/g3inpl2z' target=\"_blank\">https://wandb.ai/liac/chaos-tutorial/runs/g3inpl2z</a><br/>Synced 6 W&B file(s), 200 media file(s), 0 artifact file(s) and 0 other file(s)"
      ],
      "text/plain": [
       "<IPython.core.display.HTML object>"
      ]
     },
     "metadata": {},
     "output_type": "display_data"
    },
    {
     "data": {
      "text/html": [
       "Find logs at: <code>./wandb/run-20230907_234149-g3inpl2z/logs</code>"
      ],
      "text/plain": [
       "<IPython.core.display.HTML object>"
      ]
     },
     "metadata": {},
     "output_type": "display_data"
    }
   ],
   "source": [
    "logger = (\n",
    "    WandbLogger(project=\"chaos-tutorial\") if bo_module.enable_plotting else None\n",
    ")\n",
    "trainer = Trainer(\n",
    "    max_epochs=100,\n",
    "    logger=logger,\n",
    "    log_every_n_steps=1,\n",
    "    num_sanity_val_steps=0,\n",
    "    min_epochs=1,\n",
    "    max_steps=-1,\n",
    "    accelerator=\"cpu\",\n",
    "    devices=1,\n",
    ")\n",
    "trainer.fit(bo_module)"
   ]
  }
 ],
 "metadata": {
  "kernelspec": {
   "display_name": "additive_bo",
   "language": "python",
   "name": "python3"
  },
  "language_info": {
   "codemirror_mode": {
    "name": "ipython",
    "version": 3
   },
   "file_extension": ".py",
   "mimetype": "text/x-python",
   "name": "python",
   "nbconvert_exporter": "python",
   "pygments_lexer": "ipython3",
   "version": "3.8.17"
  },
  "orig_nbformat": 4
 },
 "nbformat": 4,
 "nbformat_minor": 2
}
