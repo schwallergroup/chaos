{
 "cells": [
  {
   "cell_type": "code",
   "execution_count": 9,
   "metadata": {},
   "outputs": [
    {
     "name": "stdout",
     "output_type": "stream",
     "text": [
      "The autoreload extension is already loaded. To reload it, use:\n",
      "  %reload_ext autoreload\n"
     ]
    }
   ],
   "source": [
    "%load_ext autoreload \n",
    "%autoreload 2"
   ]
  },
  {
   "cell_type": "code",
   "execution_count": 10,
   "metadata": {},
   "outputs": [
    {
     "name": "stdout",
     "output_type": "stream",
     "text": [
      "The watermark extension is already loaded. To reload it, use:\n",
      "  %reload_ext watermark\n",
      "Python implementation: CPython\n",
      "Python version       : 3.8.16\n",
      "IPython version      : 8.8.0\n",
      "\n",
      "numpy       : 1.23.5\n",
      "pandas      : 1.5.3\n",
      "scipy       : 1.10.1\n",
      "scikit-learn: 1.2.2\n",
      "torch       : 2.0.1\n",
      "rdkit       : 2023.3.1\n",
      "gpytorch    : 1.10\n",
      "matplotlib  : 3.3.2\n",
      "botorch     : 0.8.2.dev9+g7f3aa92f\n",
      "wandb       : 0.15.3\n",
      "\n"
     ]
    }
   ],
   "source": [
    "%load_ext watermark\n",
    "%watermark -v -p numpy,pandas,scipy,scikit-learn,torch,rdkit,gpytorch,matplotlib,botorch,wandb\n"
   ]
  },
  {
   "cell_type": "code",
   "execution_count": 11,
   "metadata": {},
   "outputs": [
    {
     "name": "stderr",
     "output_type": "stream",
     "text": [
      "To use the Graphein submodule graphein.protein.features.sequence.embeddings, you need to install: biovec \n",
      "biovec cannot be installed via conda\n",
      "To use the Graphein submodule graphein.protein.visualisation, you need to install: pytorch3d \n",
      "To do so, use the following command: conda install -c pytorch3d pytorch3d\n"
     ]
    },
    {
     "data": {
      "text/html": [
       "<pre style=\"white-space:pre;overflow-x:auto;line-height:normal;font-family:Menlo,'DejaVu Sans Mono',consolas,'Courier New',monospace\"><span style=\"color: #7fbfbf; text-decoration-color: #7fbfbf\">[09/07/23 11:44:05] </span><span style=\"color: #800000; text-decoration-color: #800000\">WARNING </span> To use the Graphein submodule graphein.protein.meshes, you need to        <a href=\"file:///home/rankovic/miniconda3/envs/additive_bo/lib/python3.8/site-packages/graphein/protein/meshes.py\" target=\"_blank\"><span style=\"color: #7f7f7f; text-decoration-color: #7f7f7f\">meshes.py</span></a><span style=\"color: #7f7f7f; text-decoration-color: #7f7f7f\">:</span><a href=\"file:///home/rankovic/miniconda3/envs/additive_bo/lib/python3.8/site-packages/graphein/protein/meshes.py#29\" target=\"_blank\"><span style=\"color: #7f7f7f; text-decoration-color: #7f7f7f\">29</span></a>\n",
       "<span style=\"color: #7fbfbf; text-decoration-color: #7fbfbf\">                    </span>         install: pytorch3d                                                        <span style=\"color: #7f7f7f; text-decoration-color: #7f7f7f\">            </span>\n",
       "<span style=\"color: #7fbfbf; text-decoration-color: #7fbfbf\">                    </span>         To do so, use the following command: conda install -c pytorch3d pytorch3d <span style=\"color: #7f7f7f; text-decoration-color: #7f7f7f\">            </span>\n",
       "</pre>\n"
      ],
      "text/plain": [
       "\u001b[2;36m[09/07/23 11:44:05]\u001b[0m\u001b[2;36m \u001b[0m\u001b[31mWARNING \u001b[0m To use the Graphein submodule graphein.protein.meshes, you need to        \u001b]8;id=315370;file:///home/rankovic/miniconda3/envs/additive_bo/lib/python3.8/site-packages/graphein/protein/meshes.py\u001b\\\u001b[2mmeshes.py\u001b[0m\u001b]8;;\u001b\\\u001b[2m:\u001b[0m\u001b]8;id=656552;file:///home/rankovic/miniconda3/envs/additive_bo/lib/python3.8/site-packages/graphein/protein/meshes.py#29\u001b\\\u001b[2m29\u001b[0m\u001b]8;;\u001b\\\n",
       "\u001b[2;36m                    \u001b[0m         install: pytorch3d                                                        \u001b[2m            \u001b[0m\n",
       "\u001b[2;36m                    \u001b[0m         To do so, use the following command: conda install -c pytorch3d pytorch3d \u001b[2m            \u001b[0m\n"
      ]
     },
     "metadata": {},
     "output_type": "display_data"
    }
   ],
   "source": [
    "from chaos.data.module import BaseDataModule, Featurizer\n",
    "from chaos.bo.module import BoModule\n",
    "from chaos.initialization.initializers import BOInitializer\n",
    "from pytorch_lightning import seed_everything\n",
    "from pytorch_lightning import Trainer\n",
    "from pytorch_lightning.loggers import WandbLogger"
   ]
  },
  {
   "cell_type": "markdown",
   "metadata": {},
   "source": [
    "# CHAOS Tutorial\n",
    "\n",
    "Welcome to the CHAOS! (tutorial) We will walk through the entire workflow of the CHAOS framework, starting with loading your dataset from a CSV file to running a Bayesian optimization loop to find the optimal experimental settings for your chemical reactions.\n",
    "\n",
    "## Introduction\n",
    "\n",
    "CHAOS, which stands for CHemical Additives Optimization Screening is an open-source framework that leverages Bayesian optimization and machine learning to facilitate the optimization of chemical reactions. The objective of this tutorial is to provide a hands-on guide to using CHAOS for chemical reaction optimization.\n"
   ]
  },
  {
   "cell_type": "code",
   "execution_count": 14,
   "metadata": {},
   "outputs": [],
   "source": [
    "## Data loading and featurization"
   ]
  },
  {
   "cell_type": "code",
   "execution_count": null,
   "metadata": {},
   "outputs": [],
   "source": [
    "featurizer = Featurizer(\n",
    "    nBits=512, bond_radius=7, representation=\"drfp\", task=\"reaction_optimization\"\n",
    ")\n",
    "initializer = BOInitializer(\n",
    "    method=\"kmeans\", n_clusters=10, use_pca=10, metric=\"jaccard\"\n",
    ")\n",
    "dm = BaseDataModule(\n",
    "    data_path=\"../data/additives/additive_rxn_screening_plate_1.csv\",\n",
    "    input_column=\"rxn\",\n",
    "    target_column=\"objective\",\n",
    "    initializer=initializer,\n",
    "    featurizer=featurizer,\n",
    ")"
   ]
  },
  {
   "cell_type": "code",
   "execution_count": null,
   "metadata": {},
   "outputs": [],
   "source": [
    "## Setting up the surrogate model"
   ]
  },
  {
   "cell_type": "code",
   "execution_count": 13,
   "metadata": {},
   "outputs": [],
   "source": [
    "model_config = {\n",
    "    \"class_path\": \"chaos.surrogate_models.gp.SimpleGP\",\n",
    "    \"init_args\": {\n",
    "        \"likelihood\": {\n",
    "            \"class_path\": \"gpytorch.likelihoods.GaussianLikelihood\",\n",
    "        },\n",
    "        \"covar_module\": {\n",
    "            \"class_path\": \"gpytorch.kernels.ScaleKernel\",\n",
    "            \"init_args\": {\n",
    "                \"base_kernel\": {\n",
    "                    \"class_path\": \"gpytorch.kernels.MaternKernel\",\n",
    "                    \"init_args\": {\"eps\": 1.0e-06},\n",
    "                },\n",
    "                \"eps\": 1.0e-06,\n",
    "            },\n",
    "        },\n",
    "        \"standardize\": True,\n",
    "        \"normalize\": False,\n",
    "        \"initial_noise_val\": 0.0001,\n",
    "        \"noise_constraint\": 1.0e-05,\n",
    "        \"initial_outputscale_val\": 2.0,\n",
    "        \"initial_lengthscale_val\": 0.5,\n",
    "    },\n",
    "}"
   ]
  },
  {
   "cell_type": "code",
   "execution_count": null,
   "metadata": {},
   "outputs": [],
   "source": [
    "## Setting up the BO loop"
   ]
  },
  {
   "cell_type": "code",
   "execution_count": null,
   "metadata": {},
   "outputs": [],
   "source": [
    "logger = (\n",
    "    WandbLogger(project=\"additives-rebuttal\") if bo_module.enable_plotting else None\n",
    ")\n",
    "trainer = Trainer(\n",
    "    max_epochs=100,\n",
    "    logger=logger,\n",
    "    log_every_n_steps=1,\n",
    "    num_sanity_val_steps=0,\n",
    "    min_epochs=1,\n",
    "    max_steps=-1,\n",
    "    accelerator=\"cpu\",\n",
    "    devices=1,\n",
    ")\n",
    "trainer.fit(bo_module)"
   ]
  },
  {
   "cell_type": "code",
   "execution_count": null,
   "metadata": {},
   "outputs": [],
   "source": [
    "## running for multiple seeds"
   ]
  },
  {
   "cell_type": "code",
   "execution_count": null,
   "metadata": {},
   "outputs": [],
   "source": [
    "for seed in list(range(1, 21)):\n",
    "    seed_everything(1)\n",
    "    featurizer = Featurizer(\n",
    "        nBits=512, bond_radius=7, representation=\"drfp\", task=\"reaction_optimization\"\n",
    "    )\n",
    "    initializer = BOInitializer(\n",
    "        method=\"kmeans\", n_clusters=10, use_pca=10, metric=\"jaccard\"\n",
    "    )\n",
    "    dm = BaseDataModule(\n",
    "        data_path=\"../data/additives/additive_rxn_screening_plate_1.csv\",\n",
    "        input_column=\"rxn\",\n",
    "        target_column=\"objective\",\n",
    "        initializer=initializer,\n",
    "        featurizer=featurizer,\n",
    "    )\n",
    "    bo_module = BoModule(\n",
    "        data=dm,\n",
    "        model_config=model_config,\n",
    "        enable_plotting=True,\n",
    "        enable_logging_images=True,\n",
    "        beta=0.1,\n",
    "    )\n",
    "    logger = (\n",
    "        WandbLogger(project=\"additives-rebuttal\") if bo_module.enable_plotting else None\n",
    "    )\n",
    "    trainer = Trainer(\n",
    "        max_epochs=100,\n",
    "        logger=logger,\n",
    "        log_every_n_steps=1,\n",
    "        num_sanity_val_steps=0,\n",
    "        min_epochs=1,\n",
    "        max_steps=-1,\n",
    "        accelerator=\"cpu\",\n",
    "        devices=1,\n",
    "    )\n",
    "    trainer.fit(bo_module)"
   ]
  }
 ],
 "metadata": {
  "kernelspec": {
   "display_name": "additive_bo",
   "language": "python",
   "name": "python3"
  },
  "language_info": {
   "codemirror_mode": {
    "name": "ipython",
    "version": 3
   },
   "file_extension": ".py",
   "mimetype": "text/x-python",
   "name": "python",
   "nbconvert_exporter": "python",
   "pygments_lexer": "ipython3",
   "version": "3.8.16"
  },
  "orig_nbformat": 4
 },
 "nbformat": 4,
 "nbformat_minor": 2
}
